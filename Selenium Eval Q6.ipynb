{
 "cells": [
  {
   "cell_type": "markdown",
   "id": "528dac64",
   "metadata": {},
   "source": [
    "Q6"
   ]
  },
  {
   "cell_type": "code",
   "execution_count": 1,
   "id": "8d1d64f4",
   "metadata": {},
   "outputs": [],
   "source": [
    "import selenium\n",
    "import pandas as pd\n",
    "from selenium import webdriver\n",
    "import warnings\n",
    "warnings.filterwarnings('ignore')\n",
    "from selenium.webdriver.common.by import By\n",
    "import time"
   ]
  },
  {
   "cell_type": "code",
   "execution_count": 2,
   "id": "7be16b5a",
   "metadata": {},
   "outputs": [],
   "source": [
    "driver=webdriver.Chrome()"
   ]
  },
  {
   "cell_type": "code",
   "execution_count": 3,
   "id": "c2c02c51",
   "metadata": {},
   "outputs": [],
   "source": [
    "driver.get(\"https://www.azquotes.com/ \")"
   ]
  },
  {
   "cell_type": "code",
   "execution_count": 4,
   "id": "39c96c55",
   "metadata": {},
   "outputs": [],
   "source": [
    "author_name=[]\n",
    "quote_title=[]\n",
    "quote_description=[]"
   ]
  },
  {
   "cell_type": "code",
   "execution_count": 5,
   "id": "8e4ba532",
   "metadata": {},
   "outputs": [],
   "source": [
    "start=0\n",
    "end=10\n",
    "for page in range(start,end):\n",
    "    name=driver.find_elements(By.XPATH,'//div[@class=\"author\"]')\n",
    "    for i in name:\n",
    "        author_name.append(i.text)\n",
    "    title=driver.find_elements(By.XPATH,'//div[@class=\"tags\"]')\n",
    "    for i in title:\n",
    "        quote_title.append(i.text)\n",
    "    description=driver.find_elements(By.XPATH,'//a[@class=\"title\"]')\n",
    "    for i in description:\n",
    "        quote_description.append(i.text)\n",
    "        \n",
    "    "
   ]
  },
  {
   "cell_type": "code",
   "execution_count": 6,
   "id": "75b4e203",
   "metadata": {},
   "outputs": [
    {
     "name": "stdout",
     "output_type": "stream",
     "text": [
      "1000 1000 1000\n"
     ]
    }
   ],
   "source": [
    "print(len(author_name),len(quote_title),len(quote_description))"
   ]
  },
  {
   "cell_type": "code",
   "execution_count": 7,
   "id": "f895b427",
   "metadata": {
    "scrolled": true
   },
   "outputs": [
    {
     "data": {
      "text/html": [
       "<div>\n",
       "<style scoped>\n",
       "    .dataframe tbody tr th:only-of-type {\n",
       "        vertical-align: middle;\n",
       "    }\n",
       "\n",
       "    .dataframe tbody tr th {\n",
       "        vertical-align: top;\n",
       "    }\n",
       "\n",
       "    .dataframe thead th {\n",
       "        text-align: right;\n",
       "    }\n",
       "</style>\n",
       "<table border=\"1\" class=\"dataframe\">\n",
       "  <thead>\n",
       "    <tr style=\"text-align: right;\">\n",
       "      <th></th>\n",
       "      <th>Name</th>\n",
       "      <th>Title</th>\n",
       "      <th>Description</th>\n",
       "    </tr>\n",
       "  </thead>\n",
       "  <tbody>\n",
       "    <tr>\n",
       "      <th>0</th>\n",
       "      <td>Michael Porter</td>\n",
       "      <td>Essence, Deep Thought, Transcendentalism</td>\n",
       "      <td>The essence of strategy is choosing what not t...</td>\n",
       "    </tr>\n",
       "    <tr>\n",
       "      <th>1</th>\n",
       "      <td>Golda Meir</td>\n",
       "      <td>Inspiration, Past, Trying</td>\n",
       "      <td>One cannot and must not try to erase the past ...</td>\n",
       "    </tr>\n",
       "    <tr>\n",
       "      <th>2</th>\n",
       "      <td>Theodore Roosevelt</td>\n",
       "      <td>Country, Peace, War</td>\n",
       "      <td>Patriotism means to stand by the country. It d...</td>\n",
       "    </tr>\n",
       "    <tr>\n",
       "      <th>3</th>\n",
       "      <td>Nelson Mandela</td>\n",
       "      <td>Inspirational, Motivational, Death</td>\n",
       "      <td>Death is something inevitable. When a man has ...</td>\n",
       "    </tr>\n",
       "    <tr>\n",
       "      <th>4</th>\n",
       "      <td>Erma Bombeck</td>\n",
       "      <td>4th Of July, Food, Patriotic</td>\n",
       "      <td>You have to love a nation that celebrates its ...</td>\n",
       "    </tr>\n",
       "    <tr>\n",
       "      <th>...</th>\n",
       "      <td>...</td>\n",
       "      <td>...</td>\n",
       "      <td>...</td>\n",
       "    </tr>\n",
       "    <tr>\n",
       "      <th>995</th>\n",
       "      <td>Hunter S. Thompson</td>\n",
       "      <td>Music, Sports, Hunting</td>\n",
       "      <td>When the going gets weird, the weird turn pro.</td>\n",
       "    </tr>\n",
       "    <tr>\n",
       "      <th>996</th>\n",
       "      <td>Corrie Ten Boom</td>\n",
       "      <td>Trust, Encouraging, Uplifting</td>\n",
       "      <td>When a train goes through a tunnel and it gets...</td>\n",
       "    </tr>\n",
       "    <tr>\n",
       "      <th>997</th>\n",
       "      <td>Dalai Lama</td>\n",
       "      <td>Inspirational, Funny, Change</td>\n",
       "      <td>If you think you are too small to make a diffe...</td>\n",
       "    </tr>\n",
       "    <tr>\n",
       "      <th>998</th>\n",
       "      <td>Mother Teresa</td>\n",
       "      <td>Success, God, Mother</td>\n",
       "      <td>God doesn't require us to succeed, he only req...</td>\n",
       "    </tr>\n",
       "    <tr>\n",
       "      <th>999</th>\n",
       "      <td>Norman Vincent Peale</td>\n",
       "      <td>Inspirational, Motivational, Change</td>\n",
       "      <td>Change your thoughts and you change your world.</td>\n",
       "    </tr>\n",
       "  </tbody>\n",
       "</table>\n",
       "<p>1000 rows × 3 columns</p>\n",
       "</div>"
      ],
      "text/plain": [
       "                     Name                                     Title  \\\n",
       "0          Michael Porter  Essence, Deep Thought, Transcendentalism   \n",
       "1              Golda Meir                 Inspiration, Past, Trying   \n",
       "2      Theodore Roosevelt                       Country, Peace, War   \n",
       "3          Nelson Mandela        Inspirational, Motivational, Death   \n",
       "4            Erma Bombeck              4th Of July, Food, Patriotic   \n",
       "..                    ...                                       ...   \n",
       "995    Hunter S. Thompson                    Music, Sports, Hunting   \n",
       "996       Corrie Ten Boom             Trust, Encouraging, Uplifting   \n",
       "997            Dalai Lama              Inspirational, Funny, Change   \n",
       "998         Mother Teresa                      Success, God, Mother   \n",
       "999  Norman Vincent Peale       Inspirational, Motivational, Change   \n",
       "\n",
       "                                           Description  \n",
       "0    The essence of strategy is choosing what not t...  \n",
       "1    One cannot and must not try to erase the past ...  \n",
       "2    Patriotism means to stand by the country. It d...  \n",
       "3    Death is something inevitable. When a man has ...  \n",
       "4    You have to love a nation that celebrates its ...  \n",
       "..                                                 ...  \n",
       "995     When the going gets weird, the weird turn pro.  \n",
       "996  When a train goes through a tunnel and it gets...  \n",
       "997  If you think you are too small to make a diffe...  \n",
       "998  God doesn't require us to succeed, he only req...  \n",
       "999    Change your thoughts and you change your world.  \n",
       "\n",
       "[1000 rows x 3 columns]"
      ]
     },
     "execution_count": 7,
     "metadata": {},
     "output_type": "execute_result"
    }
   ],
   "source": [
    "import pandas as pd\n",
    "df=pd.DataFrame({'Name':author_name,'Title':quote_title,'Description':quote_description})\n",
    "df"
   ]
  }
 ],
 "metadata": {
  "kernelspec": {
   "display_name": "Python 3 (ipykernel)",
   "language": "python",
   "name": "python3"
  },
  "language_info": {
   "codemirror_mode": {
    "name": "ipython",
    "version": 3
   },
   "file_extension": ".py",
   "mimetype": "text/x-python",
   "name": "python",
   "nbconvert_exporter": "python",
   "pygments_lexer": "ipython3",
   "version": "3.11.5"
  }
 },
 "nbformat": 4,
 "nbformat_minor": 5
}
